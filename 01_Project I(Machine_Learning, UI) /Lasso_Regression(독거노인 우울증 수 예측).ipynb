{
 "cells": [
  {
   "cell_type": "code",
   "execution_count": null,
   "metadata": {},
   "outputs": [
    {
     "name": "stdout",
     "output_type": "stream",
     "text": [
      "Mean Squared Error (MSE): 31836.681694573886\n",
      "R² Score: 0.999827207870984\n",
      "Training R² Score: 0.9999359878432273\n",
      "Test R² Score: 0.999827207870984\n",
      "교차 검증 R² Score 평균: 0.9885979348422763\n",
      "교차 검증 R² Score 표준편차: 0.0169511669370717\n"
     ]
    }
   ],
   "source": [
    "import pandas as pd\n",
    "import numpy as np\n",
    "from sklearn.linear_model import Lasso\n",
    "from sklearn.model_selection import train_test_split\n",
    "from sklearn.metrics import mean_squared_error\n",
    "from sklearn.model_selection import cross_val_score\n",
    "\n",
    "file_path = r\"C:\\Users\\BAE J.H\\Desktop\\우울증예측_예측값.xlsx\"\n",
    "data = pd.read_excel(file_path)\n",
    "\n",
    "X = data[['전체인구', '노인인구', '노인인구비율', '독거노인인구', '독거노인비율', '우울증환자수', '우울증환자수비율']]  # 모든 열을 특성으로 사용\n",
    "y = data['독거노인우울증수_예측'] \n",
    "\n",
    "X_train, X_test, y_train, y_test = train_test_split(X, y, test_size=0.2, random_state=42)\n",
    "\n",
    "lasso_model = Lasso(alpha=100.0) \n",
    "lasso_model.fit(X_train, y_train)\n",
    "\n",
    "y_pred = lasso_model.predict(X_test)\n",
    "\n",
    "mse = mean_squared_error(y_test, y_pred)\n",
    "print(f\"Mean Squared Error (MSE): {mse}\")\n",
    "\n",
    "r2_score = lasso_model.score(X_test, y_test)\n",
    "print(f\"R² Score: {r2_score}\")\n",
    "\n",
    "r2_train_score = lasso_model.score(X_train, y_train)\n",
    "print(f\"Training R² Score: {r2_train_score}\")\n",
    "\n",
    "r2_test_score = lasso_model.score(X_test, y_test)\n",
    "print(f\"Test R² Score: {r2_test_score}\")\n",
    "\n",
    "cross_val_r2 = cross_val_score(lasso_model, X, y, cv=5, scoring='r2')  \n",
    "print(f\"교차 검증 R² Score 평균: {cross_val_r2.mean()}\")\n",
    "print(f\"교차 검증 R² Score 표준편차: {cross_val_r2.std()}\")\n",
    "\n",
    "predicted_values = lasso_model.predict(X)\n",
    "predicted_values = np.maximum(0, predicted_values)\n",
    "\n",
    "predicted_values = np.round(predicted_values) \n",
    "\n",
    "data['독거노인우울증수_예측'] = predicted_values\n",
    "\n",
    "output_file_path = r\"C:\\Users\\BAE J.H\\Desktop\\우울증예측_예측값_모든열_Lasso.xlsx\"\n",
    "data.to_excel(output_file_path, index=False)\n"
   ]
  }
 ],
 "metadata": {
  "kernelspec": {
   "display_name": "ml",
   "language": "python",
   "name": "python3"
  },
  "language_info": {
   "codemirror_mode": {
    "name": "ipython",
    "version": 3
   },
   "file_extension": ".py",
   "mimetype": "text/x-python",
   "name": "python",
   "nbconvert_exporter": "python",
   "pygments_lexer": "ipython3",
   "version": "3.9.20"
  }
 },
 "nbformat": 4,
 "nbformat_minor": 2
}
