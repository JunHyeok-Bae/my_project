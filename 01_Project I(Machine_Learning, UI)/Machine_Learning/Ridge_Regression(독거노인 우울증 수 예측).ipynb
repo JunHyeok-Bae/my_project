{
 "cells": [
  {
   "cell_type": "code",
   "execution_count": 1,
   "metadata": {},
   "outputs": [
    {
     "name": "stdout",
     "output_type": "stream",
     "text": [
      "Mean Squared Error (MSE): 6085701.708294545\n",
      "R² Score: 0.968883073013215\n",
      "Training R² Score: 0.9666062082464996\n",
      "Test R² Score: 0.968883073013215\n"
     ]
    }
   ],
   "source": [
    "import pandas as pd\n",
    "import numpy as np\n",
    "from sklearn.linear_model import Ridge\n",
    "from sklearn.model_selection import train_test_split\n",
    "from sklearn.metrics import mean_squared_error\n",
    "\n",
    "file_path = r\"C:\\Users\\BAE J.H\\Desktop\\우울증예측1.xlsx\"\n",
    "data = pd.read_excel(file_path)\n",
    "\n",
    "X = data[['독거노인인구', '우울증환자수']]  \n",
    "y = data['독거노인인구'] * (data['우울증환자수비율'] / 100)  \n",
    "\n",
    "X_train, X_test, y_train, y_test = train_test_split(X, y, test_size=0.2, random_state=42)\n",
    "\n",
    "# 4. 릿지 회귀 모델 사용\n",
    "ridge_model = Ridge(alpha=1.0)\n",
    "ridge_model.fit(X_train, y_train)\n",
    "\n",
    "y_pred = ridge_model.predict(X_test)\n",
    "\n",
    "mse = mean_squared_error(y_test, y_pred)\n",
    "print(f\"Mean Squared Error (MSE): {mse}\")\n",
    "\n",
    "predicted_values = ridge_model.predict(X)\n",
    "predicted_values = np.maximum(0, predicted_values) \n",
    "\n",
    "predicted_values = np.round(predicted_values)\n",
    "\n",
    "data['독거노인우울증수_예측'] = predicted_values\n",
    "\n",
    "output_file_path = r\"C:\\Users\\BAE J.H\\Desktop\\우울증예측_예측값.xlsx\"\n",
    "data.to_excel(output_file_path, index=False)\n",
    "\n",
    "r2_score = ridge_model.score(X_test, y_test)\n",
    "print(f\"R² Score: {r2_score}\")\n",
    "\n",
    "r2_train_score = ridge_model.score(X_train, y_train)\n",
    "print(f\"Training R² Score: {r2_train_score}\")\n",
    "\n",
    "r2_test_score = ridge_model.score(X_test, y_test)\n",
    "print(f\"Test R² Score: {r2_test_score}\")\n",
    "\n"
   ]
  }
 ],
 "metadata": {
  "kernelspec": {
   "display_name": "ml",
   "language": "python",
   "name": "python3"
  },
  "language_info": {
   "codemirror_mode": {
    "name": "ipython",
    "version": 3
   },
   "file_extension": ".py",
   "mimetype": "text/x-python",
   "name": "python",
   "nbconvert_exporter": "python",
   "pygments_lexer": "ipython3",
   "version": "3.9.20"
  }
 },
 "nbformat": 4,
 "nbformat_minor": 2
}
