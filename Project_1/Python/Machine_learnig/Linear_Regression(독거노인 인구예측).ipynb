{
 "cells": [
  {
   "cell_type": "code",
   "execution_count": 2,
   "metadata": {},
   "outputs": [
    {
     "name": "stdout",
     "output_type": "stream",
     "text": [
      "예측된 데이터가 'C:\\Users\\BAE J.H\\Desktop\\독고노인 인구 예측.csv' cti경로에 저장되었습니다.\n",
      "훈련 세트에서 독거노인 비율 예측 모델 R²: 0.9072\n",
      "테스트 세트에서 독거노인 비율 예측 모델 R²: 0.9310\n",
      "훈련 세트에서 독거노인 수 예측 모델 R²: 0.9043\n",
      "테스트 세트에서 독거노인 수 예측 모델 R²: 0.8843\n"
     ]
    }
   ],
   "source": [
    "import pandas as pd\n",
    "import numpy as np\n",
    "import matplotlib.pyplot as plt\n",
    "from sklearn.linear_model import LinearRegression\n",
    "from sklearn.model_selection import train_test_split\n",
    "from sklearn.metrics import r2_score\n",
    "from sklearn.metrics import mean_absolute_error\n",
    "\n",
    "\n",
    "file_path = 'C:\\\\Users\\\\BAE J.H\\\\Desktop\\\\독거노인비율.xlsx'  \n",
    "df = pd.read_excel(file_path)\n",
    "\n",
    "df.columns = ['연도', '65세 이상 인구', '65세 이상 1인가구수', '독거노인비율']\n",
    "df.columns = df.columns.str.strip()\n",
    "\n",
    "df['65세 이상 인구'] = df['65세 이상 인구'].replace({',': ''}, regex=True)\n",
    "df['65세 이상 1인가구수'] = df['65세 이상 1인가구수'].replace({',': ''}, regex=True)\n",
    "\n",
    "df['65세 이상 인구'] = pd.to_numeric(df['65세 이상 인구'], errors='coerce')\n",
    "df['65세 이상 1인가구수'] = pd.to_numeric(df['65세 이상 1인가구수'], errors='coerce')\n",
    "df['독거노인비율'] = pd.to_numeric(df['독거노인비율'], errors='coerce')\n",
    "\n",
    "\n",
    "\n",
    "years = df['연도'].values.reshape(-1, 1)  \n",
    "elderly_population = df['65세 이상 인구'].values  \n",
    "one_person_households = df['65세 이상 1인가구수'].values  \n",
    "elderly_rate = df['독거노인비율'].values / 100  \n",
    "\n",
    "# 선형 회귀 모델을 사용\n",
    "model_rate = LinearRegression()\n",
    "model_rate.fit(years, elderly_rate)\n",
    "predicted_rate = model_rate.predict(np.arange(2025, 2081).reshape(-1, 1))\n",
    "\n",
    "model_population = LinearRegression()\n",
    "model_population.fit(years, one_person_households * elderly_rate)\n",
    "predicted_population_rate = model_population.predict(np.arange(2025, 2081).reshape(-1, 1))\n",
    "\n",
    "predicted_population = predicted_population_rate / predicted_rate\n",
    "\n",
    "X_train, X_test, y_train_rate, y_test_rate = train_test_split(years, elderly_rate, test_size=0.3, random_state=42)\n",
    "X_train_population, X_test_population, y_train_population, y_test_population = train_test_split(years, one_person_households * elderly_rate, test_size=0.3, random_state=42)\n",
    "\n",
    "model_rate.fit(X_train, y_train_rate)\n",
    "model_population.fit(X_train_population, y_train_population)\n",
    "\n",
    "train_score_rate = model_rate.score(X_train, y_train_rate)\n",
    "train_score_population = model_population.score(X_train_population, y_train_population)\n",
    "\n",
    "test_score_rate = model_rate.score(X_test, y_test_rate)\n",
    "test_score_population = model_population.score(X_test_population, y_test_population)\n",
    "\n",
    "predicted_df = pd.DataFrame({\n",
    "    'Year': np.arange(2025, 2081),\n",
    "    'Predicted Elderly Population': predicted_population.astype(int),\n",
    "    'Predicted Rate': predicted_rate\n",
    "})\n",
    "predicted_df.columns = ['연도', '독거노인 수', '독거노인 비율']\n",
    "\n",
    "output_path = 'C:\\\\Users\\\\BAE J.H\\\\Desktop\\\\독고노인 인구 예측.csv'\n",
    "predicted_df.to_csv(output_path, index=False, encoding='utf-8-sig')\n",
    "\n",
    "print(f\"훈련 세트에서 독거노인 비율 예측 모델 R²: {train_score_rate:.4f}\")\n",
    "print(f\"테스트 세트에서 독거노인 비율 예측 모델 R²: {test_score_rate:.4f}\")\n",
    "print(f\"훈련 세트에서 독거노인 수 예측 모델 R²: {train_score_population:.4f}\")\n",
    "print(f\"테스트 세트에서 독거노인 수 예측 모델 R²: {test_score_population:.4f}\")\n"
   ]
  }
 ],
 "metadata": {
  "kernelspec": {
   "display_name": "ml",
   "language": "python",
   "name": "python3"
  },
  "language_info": {
   "codemirror_mode": {
    "name": "ipython",
    "version": 3
   },
   "file_extension": ".py",
   "mimetype": "text/x-python",
   "name": "python",
   "nbconvert_exporter": "python",
   "pygments_lexer": "ipython3",
   "version": "3.9.20"
  }
 },
 "nbformat": 4,
 "nbformat_minor": 2
}
